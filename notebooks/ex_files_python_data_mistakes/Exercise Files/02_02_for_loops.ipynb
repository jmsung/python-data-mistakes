{
 "cells": [
  {
   "cell_type": "code",
   "execution_count": null,
   "metadata": {},
   "outputs": [],
   "source": [
    "# import relevant modules & libraries\n",
    "import math\n",
    "import numpy as np\n",
    "import pandas as pd"
   ]
  },
  {
   "cell_type": "code",
   "execution_count": null,
   "metadata": {},
   "outputs": [],
   "source": [
    "# read grades dataset & save as pandas dataframe\n",
    "grades = pd.read_csv('grades.csv')"
   ]
  },
  {
   "cell_type": "code",
   "execution_count": null,
   "metadata": {},
   "outputs": [],
   "source": [
    "# display first ten rows of grades\n",
    "grades.iloc[:10]"
   ]
  },
  {
   "cell_type": "code",
   "execution_count": null,
   "metadata": {},
   "outputs": [],
   "source": [
    "# check for missing values in grade column\n",
    "if grades['grade'].isnull().values.any():\n",
    "    print('there are missing values')\n",
    "else:\n",
    "    print('there are no missing values')"
   ]
  },
  {
   "cell_type": "code",
   "execution_count": null,
   "metadata": {},
   "outputs": [],
   "source": [
    "# fill missing grades with zeros\n",
    "grades['grade'] = grades['grade'].fillna(0)"
   ]
  },
  {
   "cell_type": "code",
   "execution_count": null,
   "metadata": {},
   "outputs": [],
   "source": [
    "# display first ten rows of grades\n",
    "grades.iloc[:10]"
   ]
  },
  {
   "cell_type": "code",
   "execution_count": null,
   "metadata": {},
   "outputs": [],
   "source": [
    "\"\"\"compute standard deviation for grades across all exams using for loop\"\"\"\n",
    "\n",
    "# compute mean for grades across all exams\n",
    "mean = grades['grade'].sum() / len(grades['grade'])\n",
    "# initialize total, which will eventually be the sum of all squared distances to mean\n",
    "total = 0\n",
    "# iterate over grade values in grade column\n",
    "for g in grades['grade']:\n",
    "    # each iteration, compute squared distance to mean, add to total\n",
    "    total += (g - mean)**2\n",
    "# compute variance, average squared distance to mean\n",
    "variance = total / len(grades['grade'])\n",
    "# compute standard deviation, square root of variance\n",
    "standard_dev = math.sqrt(variance)\n",
    "\n",
    "standard_dev"
   ]
  },
  {
   "cell_type": "code",
   "execution_count": null,
   "metadata": {},
   "outputs": [],
   "source": [
    "# compute standard deviation for grades across all exams using np.std\n",
    "np.std(grades['grade'])"
   ]
  },
  {
   "cell_type": "code",
   "execution_count": null,
   "metadata": {},
   "outputs": [],
   "source": [
    "\"\"\"compute mean grade for each exam using for loop\"\"\"\n",
    "\n",
    "# initialize list where mean for each exam will be saved\n",
    "exam_means = []\n",
    "# iterate over distinct exams in exam column\n",
    "for exam in grades['exam'].unique():\n",
    "    # each iteration,\n",
    "    # select subset containing grades for current exam,\n",
    "    exam_grades = grades.loc[grades['exam'] == exam]['grade']\n",
    "    # compute mean grade for current exam,\n",
    "    curr_mean = exam_grades.mean()\n",
    "    # add current mean to exam_means\n",
    "    exam_means.append(curr_mean)\n",
    "    \n",
    "exam_means"
   ]
  },
  {
   "cell_type": "code",
   "execution_count": null,
   "metadata": {},
   "outputs": [],
   "source": [
    "# compute mean grade for each exam using groupby function from pandas\n",
    "grades.groupby('exam')['grade'].mean().values"
   ]
  },
  {
   "cell_type": "code",
   "execution_count": null,
   "metadata": {},
   "outputs": [],
   "source": []
  }
 ],
 "metadata": {
  "kernelspec": {
   "display_name": "Python 3",
   "language": "python",
   "name": "python3"
  },
  "language_info": {
   "codemirror_mode": {
    "name": "ipython",
    "version": 3
   },
   "file_extension": ".py",
   "mimetype": "text/x-python",
   "name": "python",
   "nbconvert_exporter": "python",
   "pygments_lexer": "ipython3",
   "version": "3.6.9"
  }
 },
 "nbformat": 4,
 "nbformat_minor": 4
}
